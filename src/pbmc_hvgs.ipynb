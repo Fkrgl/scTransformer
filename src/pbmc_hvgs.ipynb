{
 "cells": [
  {
   "cell_type": "code",
   "execution_count": 15,
   "id": "3874a1ff",
   "metadata": {},
   "outputs": [],
   "source": [
    "import numpy as np\n",
    "import json\n",
    "import pandas as pd"
   ]
  },
  {
   "cell_type": "code",
   "execution_count": 16,
   "id": "739d13de",
   "metadata": {},
   "outputs": [],
   "source": [
    "hvgs = np.load('../data/pbmc_hvgs.npy', allow_pickle=True)\n",
    "celltypes = np.load('../data/pbmc_celltypes.npy', allow_pickle=True)\n",
    "ncells = np.load('../data/pbmc_ncells.npy', allow_pickle=True)"
   ]
  },
  {
   "cell_type": "code",
   "execution_count": 9,
   "id": "72202928",
   "metadata": {},
   "outputs": [],
   "source": [
    "with open('../data/pbmc_vocab.json', 'r') as f:\n",
    "    vocab = json.load(f)"
   ]
  },
  {
   "cell_type": "code",
   "execution_count": 13,
   "id": "eba8fddc",
   "metadata": {},
   "outputs": [],
   "source": [
    "pbmc_hvg = list(vocab.keys())[1:]"
   ]
  },
  {
   "cell_type": "code",
   "execution_count": 25,
   "id": "378ffd85",
   "metadata": {},
   "outputs": [],
   "source": [
    "df = pd.DataFrame({'celltype' : celltypes, 'ncells': ncells})\n",
    "idx_small_clusters = df[df.ncells < 1000].index.values"
   ]
  },
  {
   "cell_type": "code",
   "execution_count": 30,
   "id": "2f837412",
   "metadata": {},
   "outputs": [
    {
     "name": "stdout",
     "output_type": "stream",
     "text": [
      "54\n",
      "50\n",
      "87\n",
      "62\n",
      "61\n",
      "73\n"
     ]
    }
   ],
   "source": [
    "for idx in idx_small_clusters:\n",
    "    inter = set(hvgs[idx]).intersection(set(pbmc_hvg))\n",
    "    print(len(inter))"
   ]
  },
  {
   "cell_type": "code",
   "execution_count": 32,
   "id": "0a272f48",
   "metadata": {},
   "outputs": [
    {
     "data": {
      "text/html": [
       "<div>\n",
       "<style scoped>\n",
       "    .dataframe tbody tr th:only-of-type {\n",
       "        vertical-align: middle;\n",
       "    }\n",
       "\n",
       "    .dataframe tbody tr th {\n",
       "        vertical-align: top;\n",
       "    }\n",
       "\n",
       "    .dataframe thead th {\n",
       "        text-align: right;\n",
       "    }\n",
       "</style>\n",
       "<table border=\"1\" class=\"dataframe\">\n",
       "  <thead>\n",
       "    <tr style=\"text-align: right;\">\n",
       "      <th></th>\n",
       "      <th>celltype</th>\n",
       "      <th>ncells</th>\n",
       "    </tr>\n",
       "  </thead>\n",
       "  <tbody>\n",
       "    <tr>\n",
       "      <th>0</th>\n",
       "      <td>erythrocyte</td>\n",
       "      <td>290</td>\n",
       "    </tr>\n",
       "    <tr>\n",
       "      <th>1</th>\n",
       "      <td>platelet</td>\n",
       "      <td>1810</td>\n",
       "    </tr>\n",
       "    <tr>\n",
       "      <th>2</th>\n",
       "      <td>dendritic cell</td>\n",
       "      <td>181</td>\n",
       "    </tr>\n",
       "    <tr>\n",
       "      <th>4</th>\n",
       "      <td>CD4-positive, alpha-beta T cell</td>\n",
       "      <td>773</td>\n",
       "    </tr>\n",
       "    <tr>\n",
       "      <th>5</th>\n",
       "      <td>CD8-positive, alpha-beta T cell</td>\n",
       "      <td>305</td>\n",
       "    </tr>\n",
       "    <tr>\n",
       "      <th>6</th>\n",
       "      <td>plasmacytoid dendritic cell</td>\n",
       "      <td>1897</td>\n",
       "    </tr>\n",
       "    <tr>\n",
       "      <th>21</th>\n",
       "      <td>plasmablast</td>\n",
       "      <td>3754</td>\n",
       "    </tr>\n",
       "    <tr>\n",
       "      <th>22</th>\n",
       "      <td>conventional dendritic cell</td>\n",
       "      <td>4570</td>\n",
       "    </tr>\n",
       "    <tr>\n",
       "      <th>24</th>\n",
       "      <td>innate lymphoid cell</td>\n",
       "      <td>444</td>\n",
       "    </tr>\n",
       "    <tr>\n",
       "      <th>26</th>\n",
       "      <td>double negative thymocyte</td>\n",
       "      <td>1824</td>\n",
       "    </tr>\n",
       "    <tr>\n",
       "      <th>27</th>\n",
       "      <td>hematopoietic precursor cell</td>\n",
       "      <td>1812</td>\n",
       "    </tr>\n",
       "    <tr>\n",
       "      <th>28</th>\n",
       "      <td>peripheral blood mononuclear cell</td>\n",
       "      <td>131</td>\n",
       "    </tr>\n",
       "  </tbody>\n",
       "</table>\n",
       "</div>"
      ],
      "text/plain": [
       "                             celltype  ncells\n",
       "0                         erythrocyte     290\n",
       "1                            platelet    1810\n",
       "2                      dendritic cell     181\n",
       "4     CD4-positive, alpha-beta T cell     773\n",
       "5     CD8-positive, alpha-beta T cell     305\n",
       "6         plasmacytoid dendritic cell    1897\n",
       "21                        plasmablast    3754\n",
       "22        conventional dendritic cell    4570\n",
       "24               innate lymphoid cell     444\n",
       "26          double negative thymocyte    1824\n",
       "27       hematopoietic precursor cell    1812\n",
       "28  peripheral blood mononuclear cell     131"
      ]
     },
     "execution_count": 32,
     "metadata": {},
     "output_type": "execute_result"
    }
   ],
   "source": [
    "df[df.ncells < 5000]"
   ]
  },
  {
   "cell_type": "code",
   "execution_count": 33,
   "id": "12103b90",
   "metadata": {},
   "outputs": [
    {
     "name": "stdout",
     "output_type": "stream",
     "text": [
      "200\n",
      "200\n",
      "200\n"
     ]
    }
   ],
   "source": [
    "u =  set()\n",
    "for i in [2, 4, 6]:\n",
    "    print(len(hvgs[i]))\n",
    "    u = u.union(set(hvgs[i]))"
   ]
  },
  {
   "cell_type": "code",
   "execution_count": 34,
   "id": "dd799ab7",
   "metadata": {},
   "outputs": [
    {
     "name": "stdout",
     "output_type": "stream",
     "text": [
      "528\n"
     ]
    }
   ],
   "source": [
    "print(len(u))"
   ]
  }
 ],
 "metadata": {
  "kernelspec": {
   "display_name": "Python 3 (ipykernel)",
   "language": "python",
   "name": "python3"
  },
  "language_info": {
   "codemirror_mode": {
    "name": "ipython",
    "version": 3
   },
   "file_extension": ".py",
   "mimetype": "text/x-python",
   "name": "python",
   "nbconvert_exporter": "python",
   "pygments_lexer": "ipython3",
   "version": "3.11.3"
  }
 },
 "nbformat": 4,
 "nbformat_minor": 5
}
