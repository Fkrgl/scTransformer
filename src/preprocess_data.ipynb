{
 "cells": [
  {
   "cell_type": "code",
   "execution_count": 16,
   "id": "a7dd2e73",
   "metadata": {},
   "outputs": [],
   "source": [
    "import scvelo as scv\n",
    "import scanpy as sc\n",
    "import numpy as np\n"
   ]
  },
  {
   "cell_type": "code",
   "execution_count": 17,
   "id": "c48b657a",
   "metadata": {},
   "outputs": [
    {
     "data": {
      "text/plain": [
       "AnnData object with n_obs × n_vars = 3696 × 27998\n",
       "    obs: 'clusters_coarse', 'clusters', 'S_score', 'G2M_score'\n",
       "    var: 'highly_variable_genes'\n",
       "    uns: 'clusters_coarse_colors', 'clusters_colors', 'day_colors', 'neighbors', 'pca'\n",
       "    obsm: 'X_pca', 'X_umap'\n",
       "    layers: 'spliced', 'unspliced'\n",
       "    obsp: 'distances', 'connectivities'"
      ]
     },
     "execution_count": 17,
     "metadata": {},
     "output_type": "execute_result"
    }
   ],
   "source": [
    "# load dataset\n",
    "anndata = scv.datasets.pancreatic_endocrinogenesis()\n",
    "anndata"
   ]
  },
  {
   "cell_type": "code",
   "execution_count": 18,
   "id": "cf6393de",
   "metadata": {},
   "outputs": [],
   "source": [
    "# filter by counts of genes\n",
    "min_counts_genes = 10\n",
    "sc.pp.filter_genes(anndata, \n",
    "                   min_counts=min_counts_genes\n",
    ")\n",
    "\n",
    "# filter by counts of cell\n",
    "# min_counts_cell = None\n",
    "# sc.pp.filter_cells(anndata,\n",
    "#                    min_counts=min_counts_cell\n",
    "# )\n",
    "\n",
    "# normalize counts\n",
    "sc.pp.normalize_total(anndata)\n",
    "\n",
    "# log1p transformation\n",
    "# without log1p row sums are all equal, with log1p they slightly differ\n",
    "sc.pp.log1p(anndata)\n",
    "\n",
    "# get highly varaible genes (hvg)\n",
    "n_hvg = 500\n",
    "sc.pp.highly_variable_genes(anndata, n_top_genes=n_hvg, subset=True)"
   ]
  },
  {
   "cell_type": "code",
   "execution_count": 19,
   "id": "53501684",
   "metadata": {},
   "outputs": [
    {
     "data": {
      "text/plain": [
       "array([ 97.20135 ,  60.387436, 105.9458  , ...,  72.68019 , 110.29435 ,\n",
       "       120.79845 ], dtype=float32)"
      ]
     },
     "execution_count": 19,
     "metadata": {},
     "output_type": "execute_result"
    }
   ],
   "source": [
    "anndata.X.toarray().sum(axis=1)"
   ]
  },
  {
   "cell_type": "code",
   "execution_count": 20,
   "id": "55127906",
   "metadata": {},
   "outputs": [
    {
     "data": {
      "text/html": [
       "<div>\n",
       "<style scoped>\n",
       "    .dataframe tbody tr th:only-of-type {\n",
       "        vertical-align: middle;\n",
       "    }\n",
       "\n",
       "    .dataframe tbody tr th {\n",
       "        vertical-align: top;\n",
       "    }\n",
       "\n",
       "    .dataframe thead th {\n",
       "        text-align: right;\n",
       "    }\n",
       "</style>\n",
       "<table border=\"1\" class=\"dataframe\">\n",
       "  <thead>\n",
       "    <tr style=\"text-align: right;\">\n",
       "      <th></th>\n",
       "      <th>highly_variable_genes</th>\n",
       "      <th>n_counts</th>\n",
       "      <th>highly_variable</th>\n",
       "      <th>means</th>\n",
       "      <th>dispersions</th>\n",
       "      <th>dispersions_norm</th>\n",
       "    </tr>\n",
       "    <tr>\n",
       "      <th>index</th>\n",
       "      <th></th>\n",
       "      <th></th>\n",
       "      <th></th>\n",
       "      <th></th>\n",
       "      <th></th>\n",
       "      <th></th>\n",
       "    </tr>\n",
       "  </thead>\n",
       "  <tbody>\n",
       "    <tr>\n",
       "      <th>Fhl2</th>\n",
       "      <td>True</td>\n",
       "      <td>888.0</td>\n",
       "      <td>True</td>\n",
       "      <td>0.232534</td>\n",
       "      <td>0.818194</td>\n",
       "      <td>2.813627</td>\n",
       "    </tr>\n",
       "    <tr>\n",
       "      <th>Akr1cl</th>\n",
       "      <td>True</td>\n",
       "      <td>719.0</td>\n",
       "      <td>True</td>\n",
       "      <td>0.134404</td>\n",
       "      <td>0.679629</td>\n",
       "      <td>2.966423</td>\n",
       "    </tr>\n",
       "    <tr>\n",
       "      <th>Mreg</th>\n",
       "      <td>False</td>\n",
       "      <td>245.0</td>\n",
       "      <td>True</td>\n",
       "      <td>0.072796</td>\n",
       "      <td>0.551569</td>\n",
       "      <td>2.326211</td>\n",
       "    </tr>\n",
       "    <tr>\n",
       "      <th>Fev</th>\n",
       "      <td>True</td>\n",
       "      <td>7929.0</td>\n",
       "      <td>True</td>\n",
       "      <td>1.267251</td>\n",
       "      <td>2.473334</td>\n",
       "      <td>3.330596</td>\n",
       "    </tr>\n",
       "    <tr>\n",
       "      <th>Cryba2</th>\n",
       "      <td>True</td>\n",
       "      <td>7184.0</td>\n",
       "      <td>True</td>\n",
       "      <td>1.141365</td>\n",
       "      <td>2.059144</td>\n",
       "      <td>3.168725</td>\n",
       "    </tr>\n",
       "    <tr>\n",
       "      <th>...</th>\n",
       "      <td>...</td>\n",
       "      <td>...</td>\n",
       "      <td>...</td>\n",
       "      <td>...</td>\n",
       "      <td>...</td>\n",
       "      <td>...</td>\n",
       "    </tr>\n",
       "    <tr>\n",
       "      <th>Pak3</th>\n",
       "      <td>True</td>\n",
       "      <td>3246.0</td>\n",
       "      <td>True</td>\n",
       "      <td>0.651349</td>\n",
       "      <td>1.196751</td>\n",
       "      <td>2.431485</td>\n",
       "    </tr>\n",
       "    <tr>\n",
       "      <th>Wnk3</th>\n",
       "      <td>True</td>\n",
       "      <td>692.0</td>\n",
       "      <td>True</td>\n",
       "      <td>0.174621</td>\n",
       "      <td>0.883510</td>\n",
       "      <td>3.985689</td>\n",
       "    </tr>\n",
       "    <tr>\n",
       "      <th>Cypt3</th>\n",
       "      <td>True</td>\n",
       "      <td>43.0</td>\n",
       "      <td>True</td>\n",
       "      <td>0.012533</td>\n",
       "      <td>1.141024</td>\n",
       "      <td>5.273086</td>\n",
       "    </tr>\n",
       "    <tr>\n",
       "      <th>Rai2</th>\n",
       "      <td>True</td>\n",
       "      <td>919.0</td>\n",
       "      <td>True</td>\n",
       "      <td>0.232043</td>\n",
       "      <td>0.652113</td>\n",
       "      <td>2.112570</td>\n",
       "    </tr>\n",
       "    <tr>\n",
       "      <th>Tmem27</th>\n",
       "      <td>True</td>\n",
       "      <td>9385.0</td>\n",
       "      <td>True</td>\n",
       "      <td>1.297930</td>\n",
       "      <td>2.476463</td>\n",
       "      <td>3.335991</td>\n",
       "    </tr>\n",
       "  </tbody>\n",
       "</table>\n",
       "<p>500 rows × 6 columns</p>\n",
       "</div>"
      ],
      "text/plain": [
       "       highly_variable_genes  n_counts  highly_variable     means   \n",
       "index                                                               \n",
       "Fhl2                    True     888.0             True  0.232534  \\\n",
       "Akr1cl                  True     719.0             True  0.134404   \n",
       "Mreg                   False     245.0             True  0.072796   \n",
       "Fev                     True    7929.0             True  1.267251   \n",
       "Cryba2                  True    7184.0             True  1.141365   \n",
       "...                      ...       ...              ...       ...   \n",
       "Pak3                    True    3246.0             True  0.651349   \n",
       "Wnk3                    True     692.0             True  0.174621   \n",
       "Cypt3                   True      43.0             True  0.012533   \n",
       "Rai2                    True     919.0             True  0.232043   \n",
       "Tmem27                  True    9385.0             True  1.297930   \n",
       "\n",
       "        dispersions  dispersions_norm  \n",
       "index                                  \n",
       "Fhl2       0.818194          2.813627  \n",
       "Akr1cl     0.679629          2.966423  \n",
       "Mreg       0.551569          2.326211  \n",
       "Fev        2.473334          3.330596  \n",
       "Cryba2     2.059144          3.168725  \n",
       "...             ...               ...  \n",
       "Pak3       1.196751          2.431485  \n",
       "Wnk3       0.883510          3.985689  \n",
       "Cypt3      1.141024          5.273086  \n",
       "Rai2       0.652113          2.112570  \n",
       "Tmem27     2.476463          3.335991  \n",
       "\n",
       "[500 rows x 6 columns]"
      ]
     },
     "execution_count": 20,
     "metadata": {},
     "output_type": "execute_result"
    }
   ],
   "source": [
    "anndata.var"
   ]
  },
  {
   "cell_type": "code",
   "execution_count": 21,
   "id": "d83fb066",
   "metadata": {},
   "outputs": [],
   "source": [
    "def _digitize(x: np.ndarray, bins: np.ndarray) -> np.ndarray:\n",
    "        \"\"\"\n",
    "        Digitize the data into bins. This method spreads data uniformly when bins\n",
    "        have same values.\n",
    "\n",
    "        Args:\n",
    "\n",
    "        x (:class:`np.ndarray`):\n",
    "            The data to digitize.\n",
    "        bins (:class:`np.ndarray`):\n",
    "            The bins to use for digitization, in increasing order.\n",
    "\n",
    "        Returns:\n",
    "\n",
    "        :class:`np.ndarray`:\n",
    "            The digitized data.\n",
    "        \"\"\"\n",
    "        assert x.ndim == 1 and bins.ndim == 1\n",
    "\n",
    "        left_digits = np.digitize(x, bins)\n",
    "        right_digits = np.digitize(x, bins, right=True)\n",
    "\n",
    "        rands = np.random.rand(len(x))  # uniform random numbers\n",
    "\n",
    "        digits = rands * (right_digits - left_digits) + left_digits\n",
    "        digits = np.ceil(digits).astype(np.int64)\n",
    "        return digits"
   ]
  },
  {
   "cell_type": "code",
   "execution_count": 24,
   "id": "0e724f7b",
   "metadata": {},
   "outputs": [
    {
     "name": "stdout",
     "output_type": "stream",
     "text": [
      "(array([  1,  13,  20,  37,  47,  62,  75,  80,  90,  97, 106, 109, 111,\n",
      "       117, 118, 119, 138, 143, 146, 155, 158, 186, 195, 202, 208, 219,\n",
      "       230, 231, 243, 244, 265, 272, 279, 281, 282, 298, 309, 310, 330,\n",
      "       354, 365, 375, 395, 401, 410, 412, 428, 429, 431, 439, 443, 444,\n",
      "       449, 460, 462, 465, 476, 481]),)\n",
      "[1.0123336 0.6291461 1.0123336 1.2886881 1.0123336 0.6291461 0.6291461\n",
      " 0.6291461 1.0123336 1.2886881 0.6291461 1.2886881 0.6291461 1.2886881\n",
      " 0.6291461 0.6291461 1.2886881 0.6291461 1.0123336 3.0921414 0.6291461\n",
      " 1.5049729 0.6291461 0.6291461 2.5167365 1.0123336 1.2886881 1.0123336\n",
      " 1.2886881 0.6291461 1.8335485 1.5049729 0.6291461 0.6291461 1.6826957\n",
      " 0.6291461 1.0123336 1.0123336 0.6291461 1.0123336 0.6291461 0.6291461\n",
      " 0.6291461 1.0123336 1.0123336 1.0123336 1.5049729 0.6291461 1.2886881\n",
      " 0.6291461 1.5049729 2.4433982 0.6291461 1.2886881 0.6291461 1.6826957\n",
      " 0.6291461 0.6291461]\n",
      "[0.6291461  0.6291461  0.6291461  0.6291461  1.01233363 1.01233363\n",
      " 1.28868806 1.50497293 3.09214139]\n",
      "[5 4 5 7 5 3 3 1 5 7 1 7 2 7 1 2 7 3 6 9 1 8 4 2 8 6 7 5 7 4 8 8 2 2 8 3 5\n",
      " 5 2 6 4 2 1 5 5 5 8 2 7 4 8 8 3 7 2 8 2 1]\n"
     ]
    }
   ],
   "source": [
    "# get full data matrix (includes zeros)\n",
    "data = anndata.X.toarray()\n",
    "n_bins = 10\n",
    "binned_rows = []\n",
    "bin_edges = []\n",
    "# perform value binning for each cell\n",
    "for row in data[1:2]:\n",
    "    non_zero_ids = row.nonzero()\n",
    "    print(non_zero_ids)\n",
    "    non_zero_row = row[non_zero_ids]\n",
    "    print(non_zero_row)\n",
    "    # get borders of equally distributed bins\n",
    "    bins = np.quantile(non_zero_row, np.linspace(0, 1, n_bins - 1))\n",
    "    print(bins)\n",
    "    # spread all values equally across the bins\n",
    "    non_zero_digits = _digitize(non_zero_row, bins)\n",
    "    print(non_zero_digits)\n",
    "    binned_row = np.zeros_like(row, dtype=np.int64)\n",
    "    # assign genes to bins\n",
    "    binned_row[non_zero_ids] = non_zero_digits\n",
    "    binned_rows.append(binned_row)\n",
    "    bin_edges.append(np.concatenate([[0], bins]))\n",
    "binned_data = np.stack(binned_rows)"
   ]
  },
  {
   "cell_type": "code",
   "execution_count": 25,
   "id": "263132e3",
   "metadata": {},
   "outputs": [
    {
     "data": {
      "text/plain": [
       "array([[0, 5, 0, 0, 0, 0, 0, 0, 0, 0, 0, 0, 0, 4, 0, 0, 0, 0, 0, 0, 5, 0,\n",
       "        0, 0, 0, 0, 0, 0, 0, 0, 0, 0, 0, 0, 0, 0, 0, 7, 0, 0, 0, 0, 0, 0,\n",
       "        0, 0, 0, 5, 0, 0, 0, 0, 0, 0, 0, 0, 0, 0, 0, 0, 0, 0, 3, 0, 0, 0,\n",
       "        0, 0, 0, 0, 0, 0, 0, 0, 0, 3, 0, 0, 0, 0, 1, 0, 0, 0, 0, 0, 0, 0,\n",
       "        0, 0, 5, 0, 0, 0, 0, 0, 0, 7, 0, 0, 0, 0, 0, 0, 0, 0, 1, 0, 0, 7,\n",
       "        0, 2, 0, 0, 0, 0, 0, 7, 1, 2, 0, 0, 0, 0, 0, 0, 0, 0, 0, 0, 0, 0,\n",
       "        0, 0, 0, 0, 0, 0, 7, 0, 0, 0, 0, 3, 0, 0, 6, 0, 0, 0, 0, 0, 0, 0,\n",
       "        0, 9, 0, 0, 1, 0, 0, 0, 0, 0, 0, 0, 0, 0, 0, 0, 0, 0, 0, 0, 0, 0,\n",
       "        0, 0, 0, 0, 0, 0, 0, 0, 0, 0, 8, 0, 0, 0, 0, 0, 0, 0, 0, 4, 0, 0,\n",
       "        0, 0, 0, 0, 2, 0, 0, 0, 0, 0, 8, 0, 0, 0, 0, 0, 0, 0, 0, 0, 0, 6,\n",
       "        0, 0, 0, 0, 0, 0, 0, 0, 0, 0, 7, 5, 0, 0, 0, 0, 0, 0, 0, 0, 0, 0,\n",
       "        0, 7, 4, 0, 0, 0, 0, 0, 0, 0, 0, 0, 0, 0, 0, 0, 0, 0, 0, 0, 0, 0,\n",
       "        0, 8, 0, 0, 0, 0, 0, 0, 8, 0, 0, 0, 0, 0, 0, 2, 0, 2, 8, 0, 0, 0,\n",
       "        0, 0, 0, 0, 0, 0, 0, 0, 0, 0, 0, 0, 3, 0, 0, 0, 0, 0, 0, 0, 0, 0,\n",
       "        0, 5, 5, 0, 0, 0, 0, 0, 0, 0, 0, 0, 0, 0, 0, 0, 0, 0, 0, 0, 0, 0,\n",
       "        2, 0, 0, 0, 0, 0, 0, 0, 0, 0, 0, 0, 0, 0, 0, 0, 0, 0, 0, 0, 0, 0,\n",
       "        0, 0, 6, 0, 0, 0, 0, 0, 0, 0, 0, 0, 0, 4, 0, 0, 0, 0, 0, 0, 0, 0,\n",
       "        0, 2, 0, 0, 0, 0, 0, 0, 0, 0, 0, 0, 0, 0, 0, 0, 0, 0, 0, 0, 0, 1,\n",
       "        0, 0, 0, 0, 0, 5, 0, 0, 0, 0, 0, 0, 0, 0, 5, 0, 5, 0, 0, 0, 0, 0,\n",
       "        0, 0, 0, 0, 0, 0, 0, 0, 0, 0, 8, 2, 0, 7, 0, 0, 0, 0, 0, 0, 0, 4,\n",
       "        0, 0, 0, 8, 8, 0, 0, 0, 0, 3, 0, 0, 0, 0, 0, 0, 0, 0, 0, 0, 7, 0,\n",
       "        2, 0, 0, 8, 0, 0, 0, 0, 0, 0, 0, 0, 0, 0, 2, 0, 0, 0, 0, 1, 0, 0,\n",
       "        0, 0, 0, 0, 0, 0, 0, 0, 0, 0, 0, 0, 0, 0, 0, 0]])"
      ]
     },
     "execution_count": 25,
     "metadata": {},
     "output_type": "execute_result"
    }
   ],
   "source": [
    "binned_data"
   ]
  },
  {
   "cell_type": "code",
   "execution_count": 32,
   "id": "26f18e3b",
   "metadata": {},
   "outputs": [
    {
     "data": {
      "text/plain": [
       "array([[0.        , 0.        , 0.        , ..., 0.        , 0.        ,\n",
       "        0.        ],\n",
       "       [0.        , 1.2886881 , 0.        , ..., 0.        , 0.        ,\n",
       "        0.        ],\n",
       "       [0.        , 0.        , 0.        , ..., 0.        , 0.        ,\n",
       "        0.        ],\n",
       "       ...,\n",
       "       [0.        , 0.        , 0.        , ..., 0.        , 0.        ,\n",
       "        0.        ],\n",
       "       [0.        , 0.        , 0.        , ..., 0.        , 0.47240812,\n",
       "        0.47240812],\n",
       "       [0.        , 0.        , 0.        , ..., 0.        , 0.        ,\n",
       "        0.        ]], dtype=float32)"
      ]
     },
     "execution_count": 32,
     "metadata": {},
     "output_type": "execute_result"
    }
   ],
   "source": [
    "data"
   ]
  },
  {
   "cell_type": "code",
   "execution_count": 33,
   "id": "1c525934",
   "metadata": {},
   "outputs": [],
   "source": [
    "from scanpy.get import _get_obs_rep, _set_obs_rep"
   ]
  },
  {
   "cell_type": "code",
   "execution_count": null,
   "id": "76b57376",
   "metadata": {},
   "outputs": [],
   "source": []
  }
 ],
 "metadata": {
  "kernelspec": {
   "display_name": "Python 3 (ipykernel)",
   "language": "python",
   "name": "python3"
  },
  "language_info": {
   "codemirror_mode": {
    "name": "ipython",
    "version": 3
   },
   "file_extension": ".py",
   "mimetype": "text/x-python",
   "name": "python",
   "nbconvert_exporter": "python",
   "pygments_lexer": "ipython3",
   "version": "3.11.3"
  }
 },
 "nbformat": 4,
 "nbformat_minor": 5
}
