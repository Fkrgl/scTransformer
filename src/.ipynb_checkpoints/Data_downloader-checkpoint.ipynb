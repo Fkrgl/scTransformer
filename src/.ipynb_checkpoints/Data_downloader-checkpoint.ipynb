{
 "cells": [
  {
   "cell_type": "code",
   "execution_count": 1,
   "id": "b4c11ee9",
   "metadata": {},
   "outputs": [],
   "source": [
    "import cellxgene_census"
   ]
  },
  {
   "cell_type": "code",
   "execution_count": 2,
   "id": "093e1e4a",
   "metadata": {},
   "outputs": [
    {
     "name": "stderr",
     "output_type": "stream",
     "text": [
      "The \"stable\" release is currently 2023-07-25. Specify 'census_version=\"2023-07-25\"' in future calls to open_soma() to ensure data consistency.\n"
     ]
    }
   ],
   "source": [
    "census = cellxgene_census.open_soma()"
   ]
  },
  {
   "cell_type": "code",
   "execution_count": 3,
   "id": "ed42e3ca",
   "metadata": {},
   "outputs": [
    {
     "ename": "TileDBError",
     "evalue": "[TileDB::VFS] Error: VFS parallel read error 's3://cellxgene-data-public/cell-census/2023-07-25/soma/census_data/homo_sapiens/ms/RNA/X/raw/__fragments/__1690294514935_1690303697626_c9c5828be61c4f4fbe3892316f4d7220_18/a0.tdb'; Failed to read S3 object s3://cellxgene-data-public/cell-census/2023-07-25/soma/census_data/homo_sapiens/ms/RNA/X/raw/__fragments/__1690294514935_1690303697626_c9c5828be61c4f4fbe3892316f4d7220_18/a0.tdb\nException:  \nError message:  curlCode: 6, Couldn't resolve host name",
     "output_type": "error",
     "traceback": [
      "\u001b[0;31m---------------------------------------------------------------------------\u001b[0m",
      "\u001b[0;31mTileDBError\u001b[0m                               Traceback (most recent call last)",
      "Cell \u001b[0;32mIn[3], line 1\u001b[0m\n\u001b[0;32m----> 1\u001b[0m adata \u001b[38;5;241m=\u001b[39m \u001b[43mcellxgene_census\u001b[49m\u001b[38;5;241;43m.\u001b[39;49m\u001b[43mget_anndata\u001b[49m\u001b[43m(\u001b[49m\n\u001b[1;32m      2\u001b[0m \u001b[43m    \u001b[49m\u001b[43mcensus\u001b[49m\u001b[38;5;241;43m=\u001b[39;49m\u001b[43mcensus\u001b[49m\u001b[43m,\u001b[49m\n\u001b[1;32m      3\u001b[0m \u001b[43m    \u001b[49m\u001b[43morganism\u001b[49m\u001b[38;5;241;43m=\u001b[39;49m\u001b[38;5;124;43m\"\u001b[39;49m\u001b[38;5;124;43mHomo sapiens\u001b[39;49m\u001b[38;5;124;43m\"\u001b[39;49m\u001b[43m,\u001b[49m\n\u001b[1;32m      4\u001b[0m \u001b[43m    \u001b[49m\u001b[43mobs_value_filter\u001b[49m\u001b[38;5;241;43m=\u001b[39;49m\u001b[38;5;124;43m\"\u001b[39;49m\u001b[38;5;124;43mtissue == \u001b[39;49m\u001b[38;5;124;43m'\u001b[39;49m\u001b[38;5;124;43mbladder organ\u001b[39;49m\u001b[38;5;124;43m'\u001b[39;49m\u001b[38;5;124;43m and disease == \u001b[39;49m\u001b[38;5;124;43m'\u001b[39;49m\u001b[38;5;124;43mnormal\u001b[39;49m\u001b[38;5;124;43m'\u001b[39;49m\u001b[38;5;124;43m\"\u001b[39;49m\u001b[43m,\u001b[49m\n\u001b[1;32m      5\u001b[0m \u001b[43m    \u001b[49m\u001b[43mcolumn_names\u001b[49m\u001b[38;5;241;43m=\u001b[39;49m\u001b[43m{\u001b[49m\u001b[38;5;124;43m\"\u001b[39;49m\u001b[38;5;124;43mobs\u001b[39;49m\u001b[38;5;124;43m\"\u001b[39;49m\u001b[43m:\u001b[49m\u001b[43m \u001b[49m\u001b[43m[\u001b[49m\u001b[43m]\u001b[49m\u001b[43m}\u001b[49m\n\u001b[1;32m      6\u001b[0m \u001b[43m)\u001b[49m\n",
      "File \u001b[0;32m/usr/bin/my_programs/miniconda3/envs/transformer/lib/python3.11/site-packages/cellxgene_census/_get_anndata.py:78\u001b[0m, in \u001b[0;36mget_anndata\u001b[0;34m(census, organism, measurement_name, X_name, obs_value_filter, obs_coords, var_value_filter, var_coords, column_names)\u001b[0m\n\u001b[1;32m     72\u001b[0m var_coords \u001b[38;5;241m=\u001b[39m (\u001b[38;5;28mslice\u001b[39m(\u001b[38;5;28;01mNone\u001b[39;00m),) \u001b[38;5;28;01mif\u001b[39;00m var_coords \u001b[38;5;129;01mis\u001b[39;00m \u001b[38;5;28;01mNone\u001b[39;00m \u001b[38;5;28;01melse\u001b[39;00m (var_coords,)\n\u001b[1;32m     73\u001b[0m \u001b[38;5;28;01mwith\u001b[39;00m exp\u001b[38;5;241m.\u001b[39maxis_query(\n\u001b[1;32m     74\u001b[0m     measurement_name,\n\u001b[1;32m     75\u001b[0m     obs_query\u001b[38;5;241m=\u001b[39msoma\u001b[38;5;241m.\u001b[39mAxisQuery(value_filter\u001b[38;5;241m=\u001b[39mobs_value_filter, coords\u001b[38;5;241m=\u001b[39mobs_coords),\n\u001b[1;32m     76\u001b[0m     var_query\u001b[38;5;241m=\u001b[39msoma\u001b[38;5;241m.\u001b[39mAxisQuery(value_filter\u001b[38;5;241m=\u001b[39mvar_value_filter, coords\u001b[38;5;241m=\u001b[39mvar_coords),\n\u001b[1;32m     77\u001b[0m ) \u001b[38;5;28;01mas\u001b[39;00m query:\n\u001b[0;32m---> 78\u001b[0m     \u001b[38;5;28;01mreturn\u001b[39;00m \u001b[43mquery\u001b[49m\u001b[38;5;241;43m.\u001b[39;49m\u001b[43mto_anndata\u001b[49m\u001b[43m(\u001b[49m\u001b[43mX_name\u001b[49m\u001b[38;5;241;43m=\u001b[39;49m\u001b[43mX_name\u001b[49m\u001b[43m,\u001b[49m\u001b[43m \u001b[49m\u001b[43mcolumn_names\u001b[49m\u001b[38;5;241;43m=\u001b[39;49m\u001b[43mcolumn_names\u001b[49m\u001b[43m)\u001b[49m\n",
      "File \u001b[0;32m/usr/bin/my_programs/miniconda3/envs/transformer/lib/python3.11/site-packages/somacore/query/query.py:263\u001b[0m, in \u001b[0;36mExperimentAxisQuery.to_anndata\u001b[0;34m(self, X_name, column_names, X_layers)\u001b[0m\n\u001b[1;32m    244\u001b[0m \u001b[38;5;28;01mdef\u001b[39;00m \u001b[38;5;21mto_anndata\u001b[39m(\n\u001b[1;32m    245\u001b[0m     \u001b[38;5;28mself\u001b[39m,\n\u001b[1;32m    246\u001b[0m     X_name: \u001b[38;5;28mstr\u001b[39m,\n\u001b[0;32m   (...)\u001b[0m\n\u001b[1;32m    249\u001b[0m     X_layers: Sequence[\u001b[38;5;28mstr\u001b[39m] \u001b[38;5;241m=\u001b[39m (),\n\u001b[1;32m    250\u001b[0m ) \u001b[38;5;241m-\u001b[39m\u001b[38;5;241m>\u001b[39m anndata\u001b[38;5;241m.\u001b[39mAnnData:\n\u001b[1;32m    251\u001b[0m \u001b[38;5;250m    \u001b[39m\u001b[38;5;124;03m\"\"\"\u001b[39;00m\n\u001b[1;32m    252\u001b[0m \u001b[38;5;124;03m    Executes the query and return result as an ``AnnData`` in-memory object.\u001b[39;00m\n\u001b[1;32m    253\u001b[0m \n\u001b[0;32m   (...)\u001b[0m\n\u001b[1;32m    261\u001b[0m \u001b[38;5;124;03m    Lifecycle: maturing\u001b[39;00m\n\u001b[1;32m    262\u001b[0m \u001b[38;5;124;03m    \"\"\"\u001b[39;00m\n\u001b[0;32m--> 263\u001b[0m     \u001b[38;5;28;01mreturn\u001b[39;00m \u001b[38;5;28;43mself\u001b[39;49m\u001b[38;5;241;43m.\u001b[39;49m\u001b[43m_read\u001b[49m\u001b[43m(\u001b[49m\n\u001b[1;32m    264\u001b[0m \u001b[43m        \u001b[49m\u001b[43mX_name\u001b[49m\u001b[43m,\u001b[49m\n\u001b[1;32m    265\u001b[0m \u001b[43m        \u001b[49m\u001b[43mcolumn_names\u001b[49m\u001b[38;5;241;43m=\u001b[39;49m\u001b[43mcolumn_names\u001b[49m\u001b[43m \u001b[49m\u001b[38;5;129;43;01mor\u001b[39;49;00m\u001b[43m \u001b[49m\u001b[43mAxisColumnNames\u001b[49m\u001b[43m(\u001b[49m\u001b[43mobs\u001b[49m\u001b[38;5;241;43m=\u001b[39;49m\u001b[38;5;28;43;01mNone\u001b[39;49;00m\u001b[43m,\u001b[49m\u001b[43m \u001b[49m\u001b[43mvar\u001b[49m\u001b[38;5;241;43m=\u001b[39;49m\u001b[38;5;28;43;01mNone\u001b[39;49;00m\u001b[43m)\u001b[49m\u001b[43m,\u001b[49m\n\u001b[1;32m    266\u001b[0m \u001b[43m        \u001b[49m\u001b[43mX_layers\u001b[49m\u001b[38;5;241;43m=\u001b[39;49m\u001b[43mX_layers\u001b[49m\u001b[43m,\u001b[49m\n\u001b[1;32m    267\u001b[0m \u001b[43m    \u001b[49m\u001b[43m)\u001b[49m\u001b[38;5;241m.\u001b[39mto_anndata()\n",
      "File \u001b[0;32m/usr/bin/my_programs/miniconda3/envs/transformer/lib/python3.11/site-packages/somacore/query/query.py:337\u001b[0m, in \u001b[0;36mExperimentAxisQuery._read\u001b[0;34m(self, X_name, column_names, X_layers)\u001b[0m\n\u001b[1;32m    333\u001b[0m     all_x_arrays[_xname] \u001b[38;5;241m=\u001b[39m x_array\n\u001b[1;32m    335\u001b[0m obs_table, var_table \u001b[38;5;241m=\u001b[39m \u001b[38;5;28mself\u001b[39m\u001b[38;5;241m.\u001b[39m_read_both_axes(column_names)\n\u001b[0;32m--> 337\u001b[0m x_matrices \u001b[38;5;241m=\u001b[39m \u001b[43m{\u001b[49m\n\u001b[1;32m    338\u001b[0m \u001b[43m    \u001b[49m\u001b[43m_xname\u001b[49m\u001b[43m:\u001b[49m\u001b[43m \u001b[49m\u001b[43m_fast_csr\u001b[49m\u001b[38;5;241;43m.\u001b[39;49m\u001b[43mread_scipy_csr\u001b[49m\u001b[43m(\u001b[49m\n\u001b[1;32m    339\u001b[0m \u001b[43m        \u001b[49m\u001b[43mall_x_arrays\u001b[49m\u001b[43m[\u001b[49m\u001b[43m_xname\u001b[49m\u001b[43m]\u001b[49m\u001b[43m,\u001b[49m\u001b[43m \u001b[49m\u001b[38;5;28;43mself\u001b[39;49m\u001b[38;5;241;43m.\u001b[39;49m\u001b[43mobs_joinids\u001b[49m\u001b[43m(\u001b[49m\u001b[43m)\u001b[49m\u001b[43m,\u001b[49m\u001b[43m \u001b[49m\u001b[38;5;28;43mself\u001b[39;49m\u001b[38;5;241;43m.\u001b[39;49m\u001b[43mvar_joinids\u001b[49m\u001b[43m(\u001b[49m\u001b[43m)\u001b[49m\n\u001b[1;32m    340\u001b[0m \u001b[43m    \u001b[49m\u001b[43m)\u001b[49m\n\u001b[1;32m    341\u001b[0m \u001b[43m    \u001b[49m\u001b[38;5;28;43;01mfor\u001b[39;49;00m\u001b[43m \u001b[49m\u001b[43m_xname\u001b[49m\u001b[43m \u001b[49m\u001b[38;5;129;43;01min\u001b[39;49;00m\u001b[43m \u001b[49m\u001b[43mall_x_arrays\u001b[49m\n\u001b[1;32m    342\u001b[0m \u001b[43m\u001b[49m\u001b[43m}\u001b[49m\n\u001b[1;32m    344\u001b[0m x \u001b[38;5;241m=\u001b[39m x_matrices\u001b[38;5;241m.\u001b[39mpop(X_name)\n\u001b[1;32m    345\u001b[0m \u001b[38;5;28;01mreturn\u001b[39;00m _AxisQueryResult(obs\u001b[38;5;241m=\u001b[39mobs_table, var\u001b[38;5;241m=\u001b[39mvar_table, X\u001b[38;5;241m=\u001b[39mx, X_layers\u001b[38;5;241m=\u001b[39mx_matrices)\n",
      "File \u001b[0;32m/usr/bin/my_programs/miniconda3/envs/transformer/lib/python3.11/site-packages/somacore/query/query.py:338\u001b[0m, in \u001b[0;36m<dictcomp>\u001b[0;34m(.0)\u001b[0m\n\u001b[1;32m    333\u001b[0m     all_x_arrays[_xname] \u001b[38;5;241m=\u001b[39m x_array\n\u001b[1;32m    335\u001b[0m obs_table, var_table \u001b[38;5;241m=\u001b[39m \u001b[38;5;28mself\u001b[39m\u001b[38;5;241m.\u001b[39m_read_both_axes(column_names)\n\u001b[1;32m    337\u001b[0m x_matrices \u001b[38;5;241m=\u001b[39m {\n\u001b[0;32m--> 338\u001b[0m     _xname: \u001b[43m_fast_csr\u001b[49m\u001b[38;5;241;43m.\u001b[39;49m\u001b[43mread_scipy_csr\u001b[49m\u001b[43m(\u001b[49m\n\u001b[1;32m    339\u001b[0m \u001b[43m        \u001b[49m\u001b[43mall_x_arrays\u001b[49m\u001b[43m[\u001b[49m\u001b[43m_xname\u001b[49m\u001b[43m]\u001b[49m\u001b[43m,\u001b[49m\u001b[43m \u001b[49m\u001b[38;5;28;43mself\u001b[39;49m\u001b[38;5;241;43m.\u001b[39;49m\u001b[43mobs_joinids\u001b[49m\u001b[43m(\u001b[49m\u001b[43m)\u001b[49m\u001b[43m,\u001b[49m\u001b[43m \u001b[49m\u001b[38;5;28;43mself\u001b[39;49m\u001b[38;5;241;43m.\u001b[39;49m\u001b[43mvar_joinids\u001b[49m\u001b[43m(\u001b[49m\u001b[43m)\u001b[49m\n\u001b[1;32m    340\u001b[0m \u001b[43m    \u001b[49m\u001b[43m)\u001b[49m\n\u001b[1;32m    341\u001b[0m     \u001b[38;5;28;01mfor\u001b[39;00m _xname \u001b[38;5;129;01min\u001b[39;00m all_x_arrays\n\u001b[1;32m    342\u001b[0m }\n\u001b[1;32m    344\u001b[0m x \u001b[38;5;241m=\u001b[39m x_matrices\u001b[38;5;241m.\u001b[39mpop(X_name)\n\u001b[1;32m    345\u001b[0m \u001b[38;5;28;01mreturn\u001b[39;00m _AxisQueryResult(obs\u001b[38;5;241m=\u001b[39mobs_table, var\u001b[38;5;241m=\u001b[39mvar_table, X\u001b[38;5;241m=\u001b[39mx, X_layers\u001b[38;5;241m=\u001b[39mx_matrices)\n",
      "File \u001b[0;32m/usr/bin/my_programs/miniconda3/envs/transformer/lib/python3.11/site-packages/somacore/query/_fast_csr.py:24\u001b[0m, in \u001b[0;36mread_scipy_csr\u001b[0;34m(matrix, obs_joinids, var_joinids)\u001b[0m\n\u001b[1;32m     17\u001b[0m \u001b[38;5;28;01mdef\u001b[39;00m \u001b[38;5;21mread_scipy_csr\u001b[39m(\n\u001b[1;32m     18\u001b[0m     matrix: scd\u001b[38;5;241m.\u001b[39mSparseNDArray, obs_joinids: pa\u001b[38;5;241m.\u001b[39mArray, var_joinids: pa\u001b[38;5;241m.\u001b[39mArray\n\u001b[1;32m     19\u001b[0m ) \u001b[38;5;241m-\u001b[39m\u001b[38;5;241m>\u001b[39m sparse\u001b[38;5;241m.\u001b[39mcsr_matrix:\n\u001b[1;32m     20\u001b[0m \u001b[38;5;250m    \u001b[39m\u001b[38;5;124;03m\"\"\"\u001b[39;00m\n\u001b[1;32m     21\u001b[0m \u001b[38;5;124;03m    Given a 2D SparseNDArray and joinids for the two dimensions, read the\u001b[39;00m\n\u001b[1;32m     22\u001b[0m \u001b[38;5;124;03m    slice and return it as an SciPy sparse.csr_matrix.\u001b[39;00m\n\u001b[1;32m     23\u001b[0m \u001b[38;5;124;03m    \"\"\"\u001b[39;00m\n\u001b[0;32m---> 24\u001b[0m     data, indptr, indices, shape \u001b[38;5;241m=\u001b[39m \u001b[43m_read_csr\u001b[49m\u001b[43m(\u001b[49m\u001b[43mmatrix\u001b[49m\u001b[43m,\u001b[49m\u001b[43m \u001b[49m\u001b[43mobs_joinids\u001b[49m\u001b[43m,\u001b[49m\u001b[43m \u001b[49m\u001b[43mvar_joinids\u001b[49m\u001b[43m)\u001b[49m\n\u001b[1;32m     25\u001b[0m     csr \u001b[38;5;241m=\u001b[39m _create_scipy_csr_matrix(data, indices, indptr, shape\u001b[38;5;241m=\u001b[39mshape)\n\u001b[1;32m     26\u001b[0m     \u001b[38;5;28;01mreturn\u001b[39;00m csr\n",
      "File \u001b[0;32m/usr/bin/my_programs/miniconda3/envs/transformer/lib/python3.11/site-packages/somacore/query/_fast_csr.py:270\u001b[0m, in \u001b[0;36m_read_csr\u001b[0;34m(matrix, obs_joinids, var_joinids)\u001b[0m\n\u001b[1;32m    265\u001b[0m \u001b[38;5;28;01mwith\u001b[39;00m futures\u001b[38;5;241m.\u001b[39mThreadPoolExecutor(max_workers\u001b[38;5;241m=\u001b[39mmax_workers) \u001b[38;5;28;01mas\u001b[39;00m pool:\n\u001b[1;32m    266\u001b[0m     acc \u001b[38;5;241m=\u001b[39m _CSRAccumulator(\n\u001b[1;32m    267\u001b[0m         obs_joinids\u001b[38;5;241m=\u001b[39mobs_joinids, var_joinids\u001b[38;5;241m=\u001b[39mvar_joinids, pool\u001b[38;5;241m=\u001b[39mpool\n\u001b[1;32m    268\u001b[0m     )\n\u001b[1;32m    269\u001b[0m     \u001b[38;5;28;01mfor\u001b[39;00m tbl \u001b[38;5;129;01min\u001b[39;00m _eager_iter\u001b[38;5;241m.\u001b[39mEagerIterator(\n\u001b[0;32m--> 270\u001b[0m         \u001b[43mmatrix\u001b[49m\u001b[38;5;241;43m.\u001b[39;49m\u001b[43mread\u001b[49m\u001b[43m(\u001b[49m\u001b[43m(\u001b[49m\u001b[43mobs_joinids\u001b[49m\u001b[43m,\u001b[49m\u001b[43m \u001b[49m\u001b[43mvar_joinids\u001b[49m\u001b[43m)\u001b[49m\u001b[43m)\u001b[49m\u001b[38;5;241m.\u001b[39mtables(),\n\u001b[1;32m    271\u001b[0m         pool\u001b[38;5;241m=\u001b[39mpool,\n\u001b[1;32m    272\u001b[0m     ):\n\u001b[1;32m    273\u001b[0m         acc\u001b[38;5;241m.\u001b[39mappend(tbl[\u001b[38;5;124m\"\u001b[39m\u001b[38;5;124msoma_dim_0\u001b[39m\u001b[38;5;124m\"\u001b[39m], tbl[\u001b[38;5;124m\"\u001b[39m\u001b[38;5;124msoma_dim_1\u001b[39m\u001b[38;5;124m\"\u001b[39m], tbl[\u001b[38;5;124m\"\u001b[39m\u001b[38;5;124msoma_data\u001b[39m\u001b[38;5;124m\"\u001b[39m])\n\u001b[1;32m    275\u001b[0m     data, indptr, indices, shape \u001b[38;5;241m=\u001b[39m acc\u001b[38;5;241m.\u001b[39mfinalize()\n",
      "File \u001b[0;32m/usr/bin/my_programs/miniconda3/envs/transformer/lib/python3.11/site-packages/tiledbsoma/_sparse_nd_array.py:149\u001b[0m, in \u001b[0;36mSparseNDArray.read\u001b[0;34m(***failed resolving arguments***)\u001b[0m\n\u001b[1;32m    147\u001b[0m sr \u001b[38;5;241m=\u001b[39m \u001b[38;5;28mself\u001b[39m\u001b[38;5;241m.\u001b[39m_soma_reader(schema\u001b[38;5;241m=\u001b[39mschema, result_order\u001b[38;5;241m=\u001b[39mresult_order)\n\u001b[1;32m    148\u001b[0m \u001b[38;5;28mself\u001b[39m\u001b[38;5;241m.\u001b[39m_set_reader_coords(sr, coords)\n\u001b[0;32m--> 149\u001b[0m \u001b[43msr\u001b[49m\u001b[38;5;241;43m.\u001b[39;49m\u001b[43msubmit\u001b[49m\u001b[43m(\u001b[49m\u001b[43m)\u001b[49m\n\u001b[1;32m    150\u001b[0m \u001b[38;5;28;01mreturn\u001b[39;00m SparseNDArrayRead(sr, schema\u001b[38;5;241m.\u001b[39mshape)\n",
      "\u001b[0;31mTileDBError\u001b[0m: [TileDB::VFS] Error: VFS parallel read error 's3://cellxgene-data-public/cell-census/2023-07-25/soma/census_data/homo_sapiens/ms/RNA/X/raw/__fragments/__1690294514935_1690303697626_c9c5828be61c4f4fbe3892316f4d7220_18/a0.tdb'; Failed to read S3 object s3://cellxgene-data-public/cell-census/2023-07-25/soma/census_data/homo_sapiens/ms/RNA/X/raw/__fragments/__1690294514935_1690303697626_c9c5828be61c4f4fbe3892316f4d7220_18/a0.tdb\nException:  \nError message:  curlCode: 6, Couldn't resolve host name"
     ]
    }
   ],
   "source": [
    "adata = cellxgene_census.get_anndata(\n",
    "    census=census,\n",
    "    organism=\"Homo sapiens\",\n",
    "    obs_value_filter=\"tissue == 'bladder organ' and disease == 'normal'\",\n",
    "    column_names={\"obs\": []}\n",
    ")"
   ]
  },
  {
   "cell_type": "code",
   "execution_count": null,
   "id": "ebb3af41",
   "metadata": {},
   "outputs": [],
   "source": [
    "adata"
   ]
  },
  {
   "cell_type": "code",
   "execution_count": null,
   "id": "92b75b5e",
   "metadata": {},
   "outputs": [],
   "source": [
    "with cellxgene_census.open_soma(census_version=VERSION) as census:"
   ]
  }
 ],
 "metadata": {
  "kernelspec": {
   "display_name": "Python 3 (ipykernel)",
   "language": "python",
   "name": "python3"
  },
  "language_info": {
   "codemirror_mode": {
    "name": "ipython",
    "version": 3
   },
   "file_extension": ".py",
   "mimetype": "text/x-python",
   "name": "python",
   "nbconvert_exporter": "python",
   "pygments_lexer": "ipython3",
   "version": "3.11.3"
  }
 },
 "nbformat": 4,
 "nbformat_minor": 5
}
