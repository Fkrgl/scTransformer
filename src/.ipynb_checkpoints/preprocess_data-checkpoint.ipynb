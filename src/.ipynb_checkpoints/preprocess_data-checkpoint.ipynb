{
 "cells": [
  {
   "cell_type": "code",
   "execution_count": 3,
   "id": "a7dd2e73",
   "metadata": {},
   "outputs": [],
   "source": [
    "import scvelo as scv\n",
    "import scanpy as sc\n",
    "import numpy as np"
   ]
  },
  {
   "cell_type": "code",
   "execution_count": 4,
   "id": "c48b657a",
   "metadata": {},
   "outputs": [
    {
     "name": "stderr",
     "output_type": "stream",
     "text": [
      "100%|██████████████████████████████████████████████████████████████████████████████████████████████████████████████████████| 50.0M/50.0M [00:08<00:00, 6.40MB/s]\n"
     ]
    },
    {
     "data": {
      "text/plain": [
       "AnnData object with n_obs × n_vars = 3696 × 27998\n",
       "    obs: 'clusters_coarse', 'clusters', 'S_score', 'G2M_score'\n",
       "    var: 'highly_variable_genes'\n",
       "    uns: 'clusters_coarse_colors', 'clusters_colors', 'day_colors', 'neighbors', 'pca'\n",
       "    obsm: 'X_pca', 'X_umap'\n",
       "    layers: 'spliced', 'unspliced'\n",
       "    obsp: 'distances', 'connectivities'"
      ]
     },
     "execution_count": 4,
     "metadata": {},
     "output_type": "execute_result"
    }
   ],
   "source": [
    "# load dataset\n",
    "anndata = scv.datasets.pancreatic_endocrinogenesis()\n",
    "anndata"
   ]
  },
  {
   "cell_type": "code",
   "execution_count": 5,
   "id": "cf6393de",
   "metadata": {},
   "outputs": [],
   "source": [
    "# filter by counts of genes\n",
    "min_counts_genes = 10\n",
    "sc.pp.filter_genes(anndata, \n",
    "                   min_counts=min_counts_genes\n",
    ")\n",
    "\n",
    "# filter by counts of cell\n",
    "# min_counts_cell = None\n",
    "# sc.pp.filter_cells(anndata,\n",
    "#                    min_counts=min_counts_cell\n",
    "# )\n",
    "\n",
    "# normalize counts\n",
    "sc.pp.normalize_total(anndata)\n",
    "\n",
    "# log1p transformation\n",
    "# without log1p row sums are all equal, with log1p they slightly differ\n",
    "sc.pp.log1p(anndata)\n",
    "\n",
    "# get highly varaible genes (hvg)\n",
    "n_hvg = 2400\n",
    "sc.pp.highly_variable_genes(anndata, n_top_genes=n_hvg, subset=True)"
   ]
  },
  {
   "cell_type": "code",
   "execution_count": 6,
   "id": "53501684",
   "metadata": {},
   "outputs": [
    {
     "data": {
      "text/plain": [
       "array([462.78717, 339.6714 , 439.14117, ..., 324.27844, 382.44965,\n",
       "       471.09863], dtype=float32)"
      ]
     },
     "execution_count": 6,
     "metadata": {},
     "output_type": "execute_result"
    }
   ],
   "source": [
    "anndata.X.toarray().sum(axis=1)"
   ]
  },
  {
   "cell_type": "code",
   "execution_count": 7,
   "id": "55127906",
   "metadata": {},
   "outputs": [
    {
     "data": {
      "text/html": [
       "<div>\n",
       "<style scoped>\n",
       "    .dataframe tbody tr th:only-of-type {\n",
       "        vertical-align: middle;\n",
       "    }\n",
       "\n",
       "    .dataframe tbody tr th {\n",
       "        vertical-align: top;\n",
       "    }\n",
       "\n",
       "    .dataframe thead th {\n",
       "        text-align: right;\n",
       "    }\n",
       "</style>\n",
       "<table border=\"1\" class=\"dataframe\">\n",
       "  <thead>\n",
       "    <tr style=\"text-align: right;\">\n",
       "      <th></th>\n",
       "      <th>highly_variable_genes</th>\n",
       "      <th>n_counts</th>\n",
       "      <th>highly_variable</th>\n",
       "      <th>means</th>\n",
       "      <th>dispersions</th>\n",
       "      <th>dispersions_norm</th>\n",
       "    </tr>\n",
       "    <tr>\n",
       "      <th>index</th>\n",
       "      <th></th>\n",
       "      <th></th>\n",
       "      <th></th>\n",
       "      <th></th>\n",
       "      <th></th>\n",
       "      <th></th>\n",
       "    </tr>\n",
       "  </thead>\n",
       "  <tbody>\n",
       "    <tr>\n",
       "      <th>Sbspon</th>\n",
       "      <td>True</td>\n",
       "      <td>767.0</td>\n",
       "      <td>True</td>\n",
       "      <td>0.143064</td>\n",
       "      <td>0.277315</td>\n",
       "      <td>0.955128</td>\n",
       "    </tr>\n",
       "    <tr>\n",
       "      <th>Mcm3</th>\n",
       "      <td>True</td>\n",
       "      <td>1615.0</td>\n",
       "      <td>True</td>\n",
       "      <td>0.282309</td>\n",
       "      <td>0.514745</td>\n",
       "      <td>1.532715</td>\n",
       "    </tr>\n",
       "    <tr>\n",
       "      <th>Neurl3</th>\n",
       "      <td>True</td>\n",
       "      <td>31.0</td>\n",
       "      <td>True</td>\n",
       "      <td>0.007501</td>\n",
       "      <td>0.239100</td>\n",
       "      <td>0.764078</td>\n",
       "    </tr>\n",
       "    <tr>\n",
       "      <th>Creg2</th>\n",
       "      <td>False</td>\n",
       "      <td>10.0</td>\n",
       "      <td>True</td>\n",
       "      <td>0.003019</td>\n",
       "      <td>0.160805</td>\n",
       "      <td>0.372656</td>\n",
       "    </tr>\n",
       "    <tr>\n",
       "      <th>Fhl2</th>\n",
       "      <td>True</td>\n",
       "      <td>888.0</td>\n",
       "      <td>True</td>\n",
       "      <td>0.232534</td>\n",
       "      <td>0.818194</td>\n",
       "      <td>2.813627</td>\n",
       "    </tr>\n",
       "    <tr>\n",
       "      <th>...</th>\n",
       "      <td>...</td>\n",
       "      <td>...</td>\n",
       "      <td>...</td>\n",
       "      <td>...</td>\n",
       "      <td>...</td>\n",
       "      <td>...</td>\n",
       "    </tr>\n",
       "    <tr>\n",
       "      <th>Ap1s2</th>\n",
       "      <td>True</td>\n",
       "      <td>478.0</td>\n",
       "      <td>True</td>\n",
       "      <td>0.127904</td>\n",
       "      <td>0.319952</td>\n",
       "      <td>1.168286</td>\n",
       "    </tr>\n",
       "    <tr>\n",
       "      <th>Tmem27</th>\n",
       "      <td>True</td>\n",
       "      <td>9385.0</td>\n",
       "      <td>True</td>\n",
       "      <td>1.297930</td>\n",
       "      <td>2.476463</td>\n",
       "      <td>3.335991</td>\n",
       "    </tr>\n",
       "    <tr>\n",
       "      <th>Uty</th>\n",
       "      <td>False</td>\n",
       "      <td>69.0</td>\n",
       "      <td>True</td>\n",
       "      <td>0.018678</td>\n",
       "      <td>0.182476</td>\n",
       "      <td>0.480999</td>\n",
       "    </tr>\n",
       "    <tr>\n",
       "      <th>Ddx3y</th>\n",
       "      <td>True</td>\n",
       "      <td>675.0</td>\n",
       "      <td>True</td>\n",
       "      <td>0.165302</td>\n",
       "      <td>0.351228</td>\n",
       "      <td>1.324641</td>\n",
       "    </tr>\n",
       "    <tr>\n",
       "      <th>Eif2s3y</th>\n",
       "      <td>True</td>\n",
       "      <td>754.0</td>\n",
       "      <td>True</td>\n",
       "      <td>0.182692</td>\n",
       "      <td>0.318968</td>\n",
       "      <td>1.163366</td>\n",
       "    </tr>\n",
       "  </tbody>\n",
       "</table>\n",
       "<p>2400 rows × 6 columns</p>\n",
       "</div>"
      ],
      "text/plain": [
       "        highly_variable_genes  n_counts  highly_variable     means   \n",
       "index                                                                \n",
       "Sbspon                   True     767.0             True  0.143064  \\\n",
       "Mcm3                     True    1615.0             True  0.282309   \n",
       "Neurl3                   True      31.0             True  0.007501   \n",
       "Creg2                   False      10.0             True  0.003019   \n",
       "Fhl2                     True     888.0             True  0.232534   \n",
       "...                       ...       ...              ...       ...   \n",
       "Ap1s2                    True     478.0             True  0.127904   \n",
       "Tmem27                   True    9385.0             True  1.297930   \n",
       "Uty                     False      69.0             True  0.018678   \n",
       "Ddx3y                    True     675.0             True  0.165302   \n",
       "Eif2s3y                  True     754.0             True  0.182692   \n",
       "\n",
       "         dispersions  dispersions_norm  \n",
       "index                                   \n",
       "Sbspon      0.277315          0.955128  \n",
       "Mcm3        0.514745          1.532715  \n",
       "Neurl3      0.239100          0.764078  \n",
       "Creg2       0.160805          0.372656  \n",
       "Fhl2        0.818194          2.813627  \n",
       "...              ...               ...  \n",
       "Ap1s2       0.319952          1.168286  \n",
       "Tmem27      2.476463          3.335991  \n",
       "Uty         0.182476          0.480999  \n",
       "Ddx3y       0.351228          1.324641  \n",
       "Eif2s3y     0.318968          1.163366  \n",
       "\n",
       "[2400 rows x 6 columns]"
      ]
     },
     "execution_count": 7,
     "metadata": {},
     "output_type": "execute_result"
    }
   ],
   "source": [
    "anndata.var"
   ]
  },
  {
   "cell_type": "code",
   "execution_count": 8,
   "id": "0e724f7b",
   "metadata": {},
   "outputs": [
    {
     "name": "stdout",
     "output_type": "stream",
     "text": [
      "[0.        1.2886881 0.        ... 0.        0.        0.       ]\n",
      "(array([   1,    5,    6,    9,   37,   41,   46,   52,   58,   59,   61,\n",
      "         69,   87,  105,  118,  126,  134,  145,  152,  156,  166,  175,\n",
      "        177,  178,  180,  187,  189,  194,  205,  212,  213,  214,  217,\n",
      "        234,  241,  250,  253,  262,  277,  289,  291,  292,  297,  307,\n",
      "        322,  340,  345,  347,  350,  351,  352,  357,  362,  376,  379,\n",
      "        408,  410,  426,  434,  438,  447,  450,  454,  457,  461,  483,\n",
      "        487,  491,  492,  493,  505,  512,  513,  514,  515,  516,  517,\n",
      "        521,  536,  542,  543,  547,  548,  556,  567,  577,  587,  600,\n",
      "        610,  618,  619,  629,  636,  638,  640,  648,  653,  665,  669,\n",
      "        672,  673,  680,  688,  689,  696,  698,  708,  710,  716,  731,\n",
      "        734,  736,  741,  755,  761,  772,  781,  786,  788,  790,  792,\n",
      "        796,  809,  812,  818,  821,  835,  836,  851,  853,  859,  863,\n",
      "        865,  874,  883,  884,  889,  891,  900,  918,  923,  933,  935,\n",
      "        968,  971,  976,  982,  991, 1010, 1018, 1019, 1034, 1046, 1048,\n",
      "       1050, 1051, 1058, 1060, 1065, 1078, 1079, 1099, 1102, 1105, 1113,\n",
      "       1116, 1142, 1145, 1146, 1152, 1160, 1163, 1165, 1172, 1175, 1177,\n",
      "       1184, 1201, 1204, 1214, 1217, 1221, 1234, 1240, 1246, 1248, 1254,\n",
      "       1257, 1262, 1267, 1278, 1282, 1286, 1291, 1296, 1307, 1308, 1315,\n",
      "       1318, 1322, 1328, 1334, 1342, 1352, 1355, 1356, 1358, 1363, 1377,\n",
      "       1382, 1383, 1384, 1393, 1412, 1415, 1423, 1424, 1431, 1446, 1450,\n",
      "       1458, 1461, 1466, 1472, 1477, 1485, 1489, 1491, 1495, 1506, 1509,\n",
      "       1514, 1519, 1538, 1554, 1562, 1563, 1573, 1574, 1578, 1589, 1595,\n",
      "       1597, 1603, 1606, 1607, 1609, 1611, 1651, 1659, 1664, 1671, 1676,\n",
      "       1680, 1689, 1703, 1704, 1710, 1711, 1732, 1754, 1756, 1758, 1767,\n",
      "       1772, 1773, 1795, 1796, 1809, 1815, 1838, 1843, 1850, 1853, 1854,\n",
      "       1858, 1870, 1881, 1884, 1891, 1904, 1905, 1907, 1912, 1921, 1923,\n",
      "       1925, 1928, 1944, 1948, 1952, 1954, 1996, 2001, 2002, 2004, 2009,\n",
      "       2011, 2027, 2044, 2052, 2055, 2060, 2064, 2067, 2074, 2076, 2079,\n",
      "       2087, 2091, 2094, 2100, 2112, 2114, 2121, 2129, 2133, 2140, 2145,\n",
      "       2146, 2164, 2173, 2179, 2193, 2196, 2198, 2211, 2225, 2226, 2227,\n",
      "       2229, 2231, 2237, 2240, 2242, 2253, 2254, 2259, 2261, 2263, 2269,\n",
      "       2303, 2306, 2313, 2324, 2327, 2334, 2347, 2353, 2354, 2370]),)\n"
     ]
    }
   ],
   "source": [
    "# get full data matrix (includes zeros)\n",
    "data = anndata.X.toarray()\n",
    "for row in data[1:2]:\n",
    "    print(row)\n",
    "    print(row.nonzero())\n",
    "    row.nonzero()"
   ]
  },
  {
   "cell_type": "code",
   "execution_count": 9,
   "id": "263132e3",
   "metadata": {},
   "outputs": [
    {
     "data": {
      "text/plain": [
       "(4, 2400)"
      ]
     },
     "execution_count": 9,
     "metadata": {},
     "output_type": "execute_result"
    }
   ],
   "source": [
    "data[1:5].shape"
   ]
  },
  {
   "cell_type": "code",
   "execution_count": null,
   "id": "26f18e3b",
   "metadata": {},
   "outputs": [],
   "source": []
  }
 ],
 "metadata": {
  "kernelspec": {
   "display_name": "Python 3 (ipykernel)",
   "language": "python",
   "name": "python3"
  },
  "language_info": {
   "codemirror_mode": {
    "name": "ipython",
    "version": 3
   },
   "file_extension": ".py",
   "mimetype": "text/x-python",
   "name": "python",
   "nbconvert_exporter": "python",
   "pygments_lexer": "ipython3",
   "version": "3.11.3"
  }
 },
 "nbformat": 4,
 "nbformat_minor": 5
}
