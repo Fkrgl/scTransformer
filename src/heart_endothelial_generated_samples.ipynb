{
 "cells": [
  {
   "cell_type": "code",
   "execution_count": 12,
   "id": "cde7681b",
   "metadata": {},
   "outputs": [],
   "source": [
    "import numpy as np\n",
    "import matplotlib.pyplot as plt\n",
    "from collections import Counter\n",
    "import seaborn as sns\n",
    "from umap import UMAP\n",
    "import matplotlib.pyplot as plt\n",
    "from sklearn.decomposition import PCA\n",
    "import torch.nn as nn\n",
    "import torch"
   ]
  },
  {
   "cell_type": "code",
   "execution_count": 18,
   "id": "10b12537",
   "metadata": {},
   "outputs": [],
   "source": [
    "decoder_out = np.load('../data/heart_endothelial_decoderOutput.npy')\n",
    "sample = np.load('../data/heart_endothelial_decoder_output.npy')"
   ]
  },
  {
   "cell_type": "code",
   "execution_count": 42,
   "id": "4acb0db3",
   "metadata": {},
   "outputs": [
    {
     "data": {
      "text/plain": [
       "array([ 0.,  0.,  0.,  0.,  0.,  0.,  0.,  0.,  0.,  0.,  0.,  0.,  0.,\n",
       "        0.,  0.,  0.,  0.,  0.,  0.,  0.,  0.,  0.,  0.,  0.,  0.,  0.,\n",
       "        0.,  0.,  0.,  0.,  0.,  0.,  5.,  0.,  0.,  0.,  0.,  0.,  0.,\n",
       "        0.,  0.,  0.,  0.,  0.,  0.,  0.,  0.,  0.,  0., 16.,  0.,  0.,\n",
       "        0.,  0.,  0.,  0.,  0.,  0.,  5.,  0.,  0.,  0.,  0.,  0.,  0.,\n",
       "        0.,  0.,  0., 73.,  0.,  0., 42.,  0.,  0., 16.,  0.,  0.,  0.,\n",
       "       27.,  0.,  0.,  0.,  0.,  0.,  0.,  0.,  0.,  5., 95.,  0.,  0.,\n",
       "        0.,  0.,  0.,  0.,  0.,  0.,  0.,  0.,  0.,  0., 97.,  0.,  0.,\n",
       "        0.,  0.,  0.,  0.,  0.,  0.,  0.,  0.,  0.,  0.,  0.,  0.,  0.,\n",
       "        0.,  0.,  0.,  0.,  0.,  0.,  0.,  0.,  0.,  0.,  0.,  0.,  0.,\n",
       "        0.,  5.,  0.,  0., 35., 73.,  0.,  0.,  0.,  0., 57.,  5.,  0.,\n",
       "        0.,  0., 77.,  5.,  0.,  0.,  0.,  0., 27.,  0.,  0.,  0.,  5.,\n",
       "        0.,  5.,  0.,  0.,  0.,  0., 35., 35.,  0.,  5.,  0.,  0.,  5.,\n",
       "        0.,  0.,  0.,  0.,  0.,  0.,  0.,  0.,  0.,  0.,  0.,  0.,  0.,\n",
       "        0.,  0.,  0.,  0.,  0.,  5.,  0.,  0.,  0.,  0., 97.,  0.,  0.,\n",
       "        0.,  0.,  0.,  0.,  0.])"
      ]
     },
     "execution_count": 42,
     "metadata": {},
     "output_type": "execute_result"
    }
   ],
   "source": [
    "sample[0][:200]"
   ]
  },
  {
   "cell_type": "code",
   "execution_count": 43,
   "id": "05a3636d",
   "metadata": {},
   "outputs": [
    {
     "data": {
      "text/plain": [
       "array([ 0., 54.,  0.,  0.,  0.,  0.,  0.,  0.,  0., 87.,  0., 20.,  0.,\n",
       "        0., 65., 66.,  0.,  0.,  0.,  0.,  0.,  0., 63.,  0.,  0.,  0.,\n",
       "        0.,  0., 67.,  0.,  0.,  0.,  0.,  0.,  0.,  0.,  0.,  0., 74.,\n",
       "        0.,  0.,  0.,  0.,  0.,  0.,  0.,  0.,  0., 58.,  0., 65.,  0.,\n",
       "        0.,  0.,  0.,  0., 63.,  0., 84., 51., 66.,  0.,  0.,  0.,  0.,\n",
       "        0.,  0.,  0.,  0.,  0.,  0.,  0., 67., 63.,  0.,  0., 60.,  0.,\n",
       "       78.,  0., 77., 70.,  0.,  0., 51.,  0.,  0.,  0.,  0.,  0., 43.,\n",
       "       56., 95.,  7., 45.,  0.,  0.,  0.,  0.,  0.,  0., 45.,  0., 58.,\n",
       "        0.,  0.,  0.,  0.,  0.,  0.,  0.,  0.,  0.,  0., 55.,  0.,  0.,\n",
       "        0., 84., 47., 76.,  0.,  0., 45., 65., 67.,  0.,  0., 57.,  0.,\n",
       "       57., 61., 53.,  0.,  0.,  0.,  0., 47.,  0.,  0.,  0., 83., 58.,\n",
       "        0., 34.,  0., 75., 49., 58.,  0., 58., 49.,  0.,  0., 59., 73.,\n",
       "        0., 76., 60.,  0.,  0.,  0.,  0., 52.,  0., 80.,  0., 60.,  0.,\n",
       "       75.,  0., 55., 50., 61.,  0.,  0.,  0.,  0.,  0., 58., 58., 82.,\n",
       "        0.,  0.,  0., 65., 63., 67.,  0., 55.,  0.,  0.,  0., 88., 56.,\n",
       "       71., 61.,  0.,  0.,  0.])"
      ]
     },
     "execution_count": 43,
     "metadata": {},
     "output_type": "execute_result"
    }
   ],
   "source": [
    "sample[1][:200]"
   ]
  },
  {
   "cell_type": "code",
   "execution_count": 13,
   "id": "e88a6081",
   "metadata": {},
   "outputs": [],
   "source": [
    "s = nn.Softmax(dim=1)\n",
    "softmax_output = s(torch.tensor(decoder_out))"
   ]
  },
  {
   "cell_type": "code",
   "execution_count": 34,
   "id": "efdbc0d6",
   "metadata": {},
   "outputs": [
    {
     "name": "stdout",
     "output_type": "stream",
     "text": [
      "tensor(0.0043)\n",
      "tensor(0.0342)\n"
     ]
    }
   ],
   "source": [
    "print(softmax_output[1][53])\n",
    "print(softmax_output[1][54])"
   ]
  },
  {
   "cell_type": "code",
   "execution_count": 38,
   "id": "d62e24c2",
   "metadata": {},
   "outputs": [
    {
     "data": {
      "text/plain": [
       "tensor([6.8389e-01, 5.2137e-04, 2.1630e-03, 4.9385e-03, 9.4122e-04, 1.7931e-03,\n",
       "        1.2628e-03, 2.4128e-03, 1.1128e-03, 1.1469e-03, 1.3827e-03, 2.4144e-03,\n",
       "        1.9200e-03, 6.1298e-04, 7.4922e-04, 2.8117e-04, 1.0531e-03, 5.6845e-04,\n",
       "        4.3583e-04, 1.4802e-04, 3.5086e-03, 2.7101e-04, 2.6034e-04, 4.7865e-04,\n",
       "        3.6999e-04, 8.4489e-04, 7.0153e-04, 1.1048e-03, 6.8504e-04, 2.0688e-04,\n",
       "        3.2956e-04, 5.7597e-04, 1.9970e-04, 1.5615e-03, 1.6487e-03, 5.6055e-04,\n",
       "        1.3625e-03, 5.5165e-04, 3.7087e-03, 4.2571e-03, 6.3670e-04, 9.8983e-04,\n",
       "        1.3871e-03, 4.5094e-03, 2.6068e-03, 7.6483e-03, 4.3205e-03, 6.8543e-03,\n",
       "        7.3478e-03, 1.8031e-03, 3.3371e-03, 1.1764e-02, 4.4240e-03, 3.6802e-03,\n",
       "        1.3570e-02, 1.2238e-02, 4.2634e-03, 4.6537e-03, 9.3545e-03, 4.9004e-03,\n",
       "        1.3743e-02, 5.9993e-03, 5.1986e-03, 8.0568e-03, 4.7439e-03, 9.4446e-03,\n",
       "        3.6064e-03, 1.2583e-02, 3.2218e-03, 6.4941e-03, 3.9360e-03, 3.7266e-03,\n",
       "        4.4897e-03, 6.2302e-03, 3.6803e-03, 4.0188e-03, 3.9181e-03, 3.1440e-03,\n",
       "        5.3709e-03, 2.9628e-03, 5.6977e-03, 3.9316e-03, 4.7069e-03, 4.3912e-03,\n",
       "        5.3393e-03, 3.3746e-03, 3.1458e-03, 2.9711e-03, 1.6858e-03, 1.4476e-03,\n",
       "        1.2532e-03, 9.1573e-04, 7.0318e-04, 9.0055e-04, 5.1376e-04, 5.1042e-04,\n",
       "        3.2112e-04, 2.0914e-04, 1.0147e-04, 8.2725e-05])"
      ]
     },
     "execution_count": 38,
     "metadata": {},
     "output_type": "execute_result"
    }
   ],
   "source": [
    "softmax_output[0]"
   ]
  }
 ],
 "metadata": {
  "kernelspec": {
   "display_name": "Python 3 (ipykernel)",
   "language": "python",
   "name": "python3"
  },
  "language_info": {
   "codemirror_mode": {
    "name": "ipython",
    "version": 3
   },
   "file_extension": ".py",
   "mimetype": "text/x-python",
   "name": "python",
   "nbconvert_exporter": "python",
   "pygments_lexer": "ipython3",
   "version": "3.11.3"
  }
 },
 "nbformat": 4,
 "nbformat_minor": 5
}
